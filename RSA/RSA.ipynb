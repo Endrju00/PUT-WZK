{
 "cells": [
  {
   "cell_type": "code",
   "execution_count": 38,
   "id": "19d6f2d6",
   "metadata": {},
   "outputs": [],
   "source": [
    "from random import randint\n",
    "from math import gcd\n",
    "\n",
    "def randuntil(lb, ub, until):\n",
    "    while True:\n",
    "        x = randint(lb, ub)\n",
    "        if until(x): return x\n",
    "        \n",
    "def hexdump(xs):\n",
    "    return ' '.join(f'{x:08X}' for x in xs)\n",
    "\n",
    "def is_prime(n):\n",
    "  if n == 2 or n == 3: return True\n",
    "  if n < 2 or n%2 == 0: return False\n",
    "  if n < 9: return True\n",
    "  if n%3 == 0: return False\n",
    "  r = int(n**0.5)\n",
    "  # since all primes > 3 are of the form 6n ± 1\n",
    "  # start with f=5 (which is prime)\n",
    "  # and test f, f+2 for being prime\n",
    "  # then loop by 6. \n",
    "  f = 5\n",
    "  while f <= r:\n",
    "    if n % f == 0: return False\n",
    "    if n % (f+2) == 0: return False\n",
    "    f += 6\n",
    "  return True    "
   ]
  },
  {
   "cell_type": "code",
   "execution_count": 39,
   "id": "583d2b6c",
   "metadata": {},
   "outputs": [],
   "source": [
    "def generate_keys(p=None, q=None):\n",
    "    # Wybierz losowo dwie duże liczby pierwsze\n",
    "    if p is None: p = randuntil(2, 1e4-1, is_prime);                   print('p =', p)\n",
    "    if q is None: q = randuntil(2, 1e4-1, is_prime);                   print('q =', q)\n",
    "    assert p != q\n",
    "    \n",
    "    # Oblicz n\n",
    "    n = p*q                                                         \n",
    "    print('n =', n)\n",
    "    \n",
    "    # Oblicz wartość funkcji Eulera dla n\n",
    "    ϕ = (p - 1)*(q - 1)\n",
    "    print('ϕ =', ϕ)\n",
    "    \n",
    "    # Wybierz liczbę względnie pierwszą (najwiekszym wspólnym dzielnikiem jest jeden) z ϕ(n) taką że 1 < e < ϕ(n) \n",
    "    e = randuntil(3, 2**32, lambda x: gcd(x, ϕ) == 1)\n",
    "    print('e =', e)\n",
    "    \n",
    "    # Znajdujemy liczbę d, gdzie jej różnica z odwrotnością modularną liczby e jest podzielna przez φ(n)\n",
    "    d = pow(e, -1, ϕ)\n",
    "    print('d =', d)\n",
    "\n",
    "    # Zwróć klucz publiczny i klucz prywatny\n",
    "    return (e, n), (d, n)"
   ]
  },
  {
   "cell_type": "code",
   "execution_count": 40,
   "id": "f32cd012",
   "metadata": {},
   "outputs": [],
   "source": [
    "def cipher(key, msg):\n",
    "    p, n = key\n",
    "    # Szyfruj wiadomość c = x^p mod n\n",
    "    return [pow(x, p, n) for x in msg]\n",
    "\n",
    "\n",
    "encrypt = lambda k, m: cipher(k, bytes(m, 'utf-8'))\n",
    "decrypt = lambda k, m: bytes(cipher(k, m)).decode('utf-8')"
   ]
  },
  {
   "cell_type": "code",
   "execution_count": 41,
   "id": "6c635fa9",
   "metadata": {},
   "outputs": [
    {
     "name": "stdout",
     "output_type": "stream",
     "text": [
      "p = 1693\n",
      "q = 1217\n",
      "n = 2060381\n",
      "ϕ = 2057472\n",
      "e = 263444513\n",
      "d = 1743329\n"
     ]
    }
   ],
   "source": [
    "pub, prv = generate_keys()"
   ]
  },
  {
   "cell_type": "code",
   "execution_count": 42,
   "id": "2a3c7c73",
   "metadata": {},
   "outputs": [
    {
     "name": "stdout",
     "output_type": "stream",
     "text": [
      "Tajny tekst do zaszyfrowania - oryginalna wersja 1\n"
     ]
    }
   ],
   "source": [
    "original = 'Tajny tekst do zaszyfrowania - oryginalna wersja 1'\n",
    "assert len(bytes(original, 'utf-8')) == 50\n",
    "print(original)"
   ]
  },
  {
   "cell_type": "code",
   "execution_count": 43,
   "id": "ec0ee38d",
   "metadata": {},
   "outputs": [
    {
     "name": "stdout",
     "output_type": "stream",
     "text": [
      "length = 50 \n",
      "-----------\n",
      "0003B758 0004628D 0015F891 00173F45 0002DFA0 001F1D9D 0017B984 00178269 00163D1C 0000F004 0017B984 001F1D9D 001250AB 00194F24 001F1D9D 0016BDEF 0004628D 0000F004 0016BDEF 0002DFA0 000BAD00 0005C5E6 00194F24 000554F7 0004628D 00173F45 001865C4 0004628D 001F1D9D 00024020 001F1D9D 00194F24 0005C5E6 0002DFA0 001D8B10 001865C4 00173F45 0004628D 0000DDF3 00173F45 0004628D 001F1D9D 000554F7 00178269 0005C5E6 0000F004 0015F891 0004628D 001F1D9D 001C9197\n"
     ]
    }
   ],
   "source": [
    "secret = encrypt(pub, original)\n",
    "print('length =', len(secret), '\\n'+'-'*11)\n",
    "print(hexdump(secret))"
   ]
  },
  {
   "cell_type": "code",
   "execution_count": 44,
   "id": "b2248459",
   "metadata": {},
   "outputs": [
    {
     "name": "stdout",
     "output_type": "stream",
     "text": [
      "Tajny tekst do zaszyfrowania - oryginalna wersja 1\n"
     ]
    }
   ],
   "source": [
    "recevied = decrypt(prv, secret)\n",
    "assert recevied == original\n",
    "print(recevied)"
   ]
  },
  {
   "cell_type": "code",
   "execution_count": null,
   "id": "61749943",
   "metadata": {},
   "outputs": [],
   "source": []
  }
 ],
 "metadata": {
  "kernelspec": {
   "display_name": "Python 3 (ipykernel)",
   "language": "python",
   "name": "python3"
  },
  "language_info": {
   "codemirror_mode": {
    "name": "ipython",
    "version": 3
   },
   "file_extension": ".py",
   "mimetype": "text/x-python",
   "name": "python",
   "nbconvert_exporter": "python",
   "pygments_lexer": "ipython3",
   "version": "3.10.8"
  }
 },
 "nbformat": 4,
 "nbformat_minor": 5
}
