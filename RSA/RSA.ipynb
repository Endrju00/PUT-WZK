{
 "cells": [
  {
   "cell_type": "code",
   "execution_count": 1,
   "id": "19d6f2d6",
   "metadata": {},
   "outputs": [],
   "source": [
    "from random import randint\n",
    "from math import gcd\n",
    "\n",
    "def randuntil(lb, ub, until):\n",
    "    while True:\n",
    "        x = randint(lb, ub)\n",
    "        if until(x): return x\n",
    "        \n",
    "def hexdump(xs):\n",
    "    return ' '.join(f'{x:08X}' for x in xs)\n",
    "\n",
    "def is_prime(n):\n",
    "  if n == 2 or n == 3: return True\n",
    "  if n < 2 or n%2 == 0: return False\n",
    "  if n < 9: return True\n",
    "  if n%3 == 0: return False\n",
    "  r = int(n**0.5)\n",
    "  # since all primes > 3 are of the form 6n ± 1\n",
    "  # start with f=5 (which is prime)\n",
    "  # and test f, f+2 for being prime\n",
    "  # then loop by 6. \n",
    "  f = 5\n",
    "  while f <= r:\n",
    "    if n % f == 0: return False\n",
    "    if n % (f+2) == 0: return False\n",
    "    f += 6\n",
    "  return True    "
   ]
  },
  {
   "cell_type": "code",
   "execution_count": 2,
   "id": "583d2b6c",
   "metadata": {},
   "outputs": [],
   "source": [
    "def generate_keys(p=None, q=None):\n",
    "    # Wybierz losowo dwie duże liczby pierwsze\n",
    "    if p is None: p = randuntil(2, 1e4-1, is_prime);                   print('p =', p)\n",
    "    if q is None: q = randuntil(2, 1e4-1, is_prime);                   print('q =', q)\n",
    "    assert p != q\n",
    "    \n",
    "    # Oblicz n\n",
    "    n = p*q                                                         \n",
    "    print('n =', n)\n",
    "    \n",
    "    # Oblicz wartość funkcji Eulera dla n\n",
    "    ϕ = (p - 1)*(q - 1)\n",
    "    print('ϕ =', ϕ)\n",
    "    \n",
    "    # Wybierz liczbę względnie pierwszą (najwiekszym wspólnym dzielnikiem jest jeden) z ϕ(n) taką że 1 < e < ϕ(n) \n",
    "    e = randuntil(3, 2**32, lambda x: is_prime(x) and gcd(x, ϕ) == 1)\n",
    "    print('e =', e)\n",
    "    \n",
    "    # Znajdujemy liczbę d, gdzie jej różnica z odwrotnością modularną liczby e jest podzielna przez φ(n)\n",
    "    d = pow(e, -1, ϕ)\n",
    "    print('d =', d)\n",
    "\n",
    "    # Zwróć klucz publiczny i klucz prywatny\n",
    "    return (e, n), (d, n)"
   ]
  },
  {
   "cell_type": "code",
   "execution_count": 3,
   "id": "f32cd012",
   "metadata": {},
   "outputs": [],
   "source": [
    "def cipher(key, msg):\n",
    "    p, n = key\n",
    "    # Szyfruj wiadomość c = x^p mod n\n",
    "    return [pow(x, p, n) for x in msg]\n",
    "\n",
    "\n",
    "encrypt = lambda k, m: cipher(k, bytes(m, 'utf-8'))\n",
    "decrypt = lambda k, m: bytes(cipher(k, m)).decode('utf-8')"
   ]
  },
  {
   "cell_type": "code",
   "execution_count": 4,
   "id": "6c635fa9",
   "metadata": {},
   "outputs": [
    {
     "name": "stdout",
     "output_type": "stream",
     "text": [
      "p = 5527\n",
      "q = 7561\n",
      "n = 41789647\n",
      "ϕ = 41776560\n",
      "e = 2760084809\n",
      "d = 5956649\n"
     ]
    }
   ],
   "source": [
    "pub, prv = generate_keys()"
   ]
  },
  {
   "cell_type": "code",
   "execution_count": 5,
   "id": "2a3c7c73",
   "metadata": {},
   "outputs": [
    {
     "name": "stdout",
     "output_type": "stream",
     "text": [
      "Tajny tekst do zaszyfrowania - oryginalna wersja 1\n"
     ]
    }
   ],
   "source": [
    "original = 'Tajny tekst do zaszyfrowania - oryginalna wersja 1'\n",
    "assert len(bytes(original, 'utf-8')) == 50\n",
    "print(original)"
   ]
  },
  {
   "cell_type": "code",
   "execution_count": 6,
   "id": "ec0ee38d",
   "metadata": {},
   "outputs": [
    {
     "name": "stdout",
     "output_type": "stream",
     "text": [
      "length = 50 \n",
      "-----------\n",
      "0235B886 01D78C38 015991C4 00A5013A 00466A74 02226830 026B3C4C 0048564D 0180FDC5 00FDFC70 026B3C4C 02226830 010BD879 0189EF14 02226830 00572851 01D78C38 00FDFC70 00572851 00466A74 025923C6 004D4363 0189EF14 00E276D3 01D78C38 00A5013A 01286419 01D78C38 02226830 014FFA6D 02226830 0189EF14 004D4363 00466A74 008B6427 01286419 00A5013A 01D78C38 0007D8E4 00A5013A 01D78C38 02226830 00E276D3 0048564D 004D4363 00FDFC70 015991C4 01D78C38 02226830 01EF72B5\n"
     ]
    }
   ],
   "source": [
    "secret = encrypt(pub, original)\n",
    "print('length =', len(secret), '\\n'+'-'*11)\n",
    "print(hexdump(secret))"
   ]
  },
  {
   "cell_type": "code",
   "execution_count": 7,
   "id": "b2248459",
   "metadata": {},
   "outputs": [
    {
     "name": "stdout",
     "output_type": "stream",
     "text": [
      "Tajny tekst do zaszyfrowania - oryginalna wersja 1\n"
     ]
    }
   ],
   "source": [
    "recevied = decrypt(prv, secret)\n",
    "assert recevied == original\n",
    "print(recevied)"
   ]
  },
  {
   "cell_type": "code",
   "execution_count": null,
   "id": "8c0f4684",
   "metadata": {},
   "outputs": [],
   "source": []
  }
 ],
 "metadata": {
  "kernelspec": {
   "display_name": "Python 3 (ipykernel)",
   "language": "python",
   "name": "python3"
  },
  "language_info": {
   "codemirror_mode": {
    "name": "ipython",
    "version": 3
   },
   "file_extension": ".py",
   "mimetype": "text/x-python",
   "name": "python",
   "nbconvert_exporter": "python",
   "pygments_lexer": "ipython3",
   "version": "3.10.8"
  }
 },
 "nbformat": 4,
 "nbformat_minor": 5
}
