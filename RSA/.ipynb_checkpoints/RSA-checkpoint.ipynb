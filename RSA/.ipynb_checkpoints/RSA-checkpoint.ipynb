{
 "cells": [
  {
   "cell_type": "code",
   "execution_count": 9,
   "id": "19d6f2d6",
   "metadata": {},
   "outputs": [],
   "source": [
    "from random import randint\n",
    "from math import gcd\n",
    "\n",
    "def randuntil(lb, ub, until):\n",
    "    while True:\n",
    "        x = randint(lb, ub)\n",
    "        if until(x): return x\n",
    "        \n",
    "def hexdump(xs):\n",
    "    return ' '.join(f'{x:08X}' for x in xs)\n",
    "\n",
    "def is_prime(n):\n",
    "  if n == 2 or n == 3: return True\n",
    "  if n < 2 or n%2 == 0: return False\n",
    "  if n < 9: return True\n",
    "  if n%3 == 0: return False\n",
    "  r = int(n**0.5)\n",
    "  # since all primes > 3 are of the form 6n ± 1\n",
    "  # start with f=5 (which is prime)\n",
    "  # and test f, f+2 for being prime\n",
    "  # then loop by 6. \n",
    "  f = 5\n",
    "  while f <= r:\n",
    "    if n % f == 0: return False\n",
    "    if n % (f+2) == 0: return False\n",
    "    f += 6\n",
    "  return True    "
   ]
  },
  {
   "cell_type": "code",
   "execution_count": 10,
   "id": "583d2b6c",
   "metadata": {},
   "outputs": [],
   "source": [
    "def keygen(p=None, q=None):\n",
    "    if p is None: p = randuntil(2, 1e4-1, is_prime);                   print('p =', p)\n",
    "    if q is None: q = randuntil(2, 1e4-1, is_prime);                   print('q =', q)\n",
    "    assert p != q\n",
    "    n = p*q;                                                          print('n =', n)\n",
    "    ϕ = (p - 1)*(q - 1);                                              print('ϕ =', ϕ)\n",
    "    e = randuntil(3, 2**32, lambda x: is_prime(x) and gcd(x, ϕ) == 1); print('e =', e)\n",
    "    # przyspieszenie: rozszerzony alg. euklidesa\n",
    "    d = pow(e, -1, ϕ);                                                print('d =', d)\n",
    "    #d = randuntil(2, 2**32, lambda x: e*x % ϕ == 1);                  print('d =', d)\n",
    "    return (e, n), (d, n)"
   ]
  },
  {
   "cell_type": "code",
   "execution_count": 11,
   "id": "f32cd012",
   "metadata": {},
   "outputs": [],
   "source": [
    "def cipher(key, msg):\n",
    "    p, n = key\n",
    "    return [pow(x, p, n) for x in msg]\n",
    "\n",
    "encrypt = lambda k, m: cipher(k, bytes(m, 'utf-8'))\n",
    "decrypt = lambda k, m: bytes(cipher(k, m)).decode('utf-8')"
   ]
  },
  {
   "cell_type": "code",
   "execution_count": 12,
   "id": "6c635fa9",
   "metadata": {},
   "outputs": [
    {
     "name": "stdout",
     "output_type": "stream",
     "text": [
      "p = 6269\n",
      "q = 1723\n",
      "n = 10801487\n",
      "ϕ = 10793496\n",
      "e = 1619757017\n",
      "d = 7499081\n"
     ]
    }
   ],
   "source": [
    "pub, prv = keygen()"
   ]
  },
  {
   "cell_type": "code",
   "execution_count": 15,
   "id": "2a3c7c73",
   "metadata": {},
   "outputs": [
    {
     "name": "stdout",
     "output_type": "stream",
     "text": [
      "Tajny tekst do zaszyfrowania - oryginalna wersja 1\n"
     ]
    }
   ],
   "source": [
    "original = 'Tajny tekst do zaszyfrowania - oryginalna wersja 1'\n",
    "assert len(bytes(original, 'utf-8')) == 50\n",
    "print(original)"
   ]
  },
  {
   "cell_type": "code",
   "execution_count": 16,
   "id": "ec0ee38d",
   "metadata": {},
   "outputs": [
    {
     "name": "stdout",
     "output_type": "stream",
     "text": [
      "length = 50 \n",
      "-----------\n",
      "00713F87 00493F99 00978C94 0033E3CF 001C06B9 0093F074 00469BB8 005B37BF 003871C0 0076A0A6 00469BB8 0093F074 00135B40 0010B12E 0093F074 00117A51 00493F99 0076A0A6 00117A51 001C06B9 0091398E 0085DFC6 0010B12E 000E31B4 00493F99 0033E3CF 0022508E 00493F99 0093F074 0080D49D 0093F074 0010B12E 0085DFC6 001C06B9 00581BF6 0022508E 0033E3CF 00493F99 00110FAB 0033E3CF 00493F99 0093F074 000E31B4 005B37BF 0085DFC6 0076A0A6 00978C94 00493F99 0093F074 0092594C\n"
     ]
    }
   ],
   "source": [
    "secret = encrypt(pub, original)\n",
    "print('length =', len(secret), '\\n'+'-'*11)\n",
    "print(hexdump(secret))"
   ]
  },
  {
   "cell_type": "code",
   "execution_count": 17,
   "id": "b2248459",
   "metadata": {},
   "outputs": [
    {
     "name": "stdout",
     "output_type": "stream",
     "text": [
      "Tajny tekst do zaszyfrowania - oryginalna wersja 1\n"
     ]
    }
   ],
   "source": [
    "recevied = decrypt(prv, secret)\n",
    "assert recevied == original\n",
    "print(recevied)"
   ]
  },
  {
   "cell_type": "code",
   "execution_count": null,
   "id": "8c0f4684",
   "metadata": {},
   "outputs": [],
   "source": []
  }
 ],
 "metadata": {
  "kernelspec": {
   "display_name": "Python 3 (ipykernel)",
   "language": "python",
   "name": "python3"
  },
  "language_info": {
   "codemirror_mode": {
    "name": "ipython",
    "version": 3
   },
   "file_extension": ".py",
   "mimetype": "text/x-python",
   "name": "python",
   "nbconvert_exporter": "python",
   "pygments_lexer": "ipython3",
   "version": "3.10.8"
  }
 },
 "nbformat": 4,
 "nbformat_minor": 5
}
