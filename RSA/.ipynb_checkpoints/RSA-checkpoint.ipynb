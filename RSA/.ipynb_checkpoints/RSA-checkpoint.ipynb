{
 "cells": [
  {
   "cell_type": "code",
   "execution_count": 2,
   "id": "19d6f2d6",
   "metadata": {},
   "outputs": [],
   "source": [
    "from random import randint\n",
    "from math import gcd\n",
    "\n",
    "def randuntil(lb, ub, until):\n",
    "    while True:\n",
    "        x = randint(lb, ub)\n",
    "        if until(x): return x\n",
    "        \n",
    "def hexdump(xs):\n",
    "    return ' '.join(f'{x:08X}' for x in xs)\n",
    "\n",
    "def is_prime(n):\n",
    "  if n == 2 or n == 3: return True\n",
    "  if n < 2 or n%2 == 0: return False\n",
    "  if n < 9: return True\n",
    "  if n%3 == 0: return False\n",
    "  r = int(n**0.5)\n",
    "  # since all primes > 3 are of the form 6n ± 1\n",
    "  # start with f=5 (which is prime)\n",
    "  # and test f, f+2 for being prime\n",
    "  # then loop by 6. \n",
    "  f = 5\n",
    "  while f <= r:\n",
    "    if n % f == 0: return False\n",
    "    if n % (f+2) == 0: return False\n",
    "    f += 6\n",
    "  return True    "
   ]
  },
  {
   "cell_type": "code",
   "execution_count": 3,
   "id": "583d2b6c",
   "metadata": {},
   "outputs": [],
   "source": [
    "def generate_keys(p=None, q=None):\n",
    "    # Wybierz losowo dwie duże liczby pierwsze\n",
    "    if p is None: p = randuntil(2, 1e4-1, is_prime);                   print('p =', p)\n",
    "    if q is None: q = randuntil(2, 1e4-1, is_prime);                   print('q =', q)\n",
    "    assert p != q\n",
    "    \n",
    "    # Oblicz n\n",
    "    n = p*q                                                         \n",
    "    print('n =', n)\n",
    "    \n",
    "    # Oblicz wartość funkcji Eulera dla n\n",
    "    ϕ = (p - 1)*(q - 1)\n",
    "    print('ϕ =', ϕ)\n",
    "    \n",
    "    # Wybierz liczbę względnie pierwszą (najwiekszym wspólnym dzielnikiem jest jeden) z ϕ(n) taką że 1 < e < ϕ(n) \n",
    "    e = randuntil(3, 2**32, lambda x: is_prime(x) and gcd(x, ϕ) == 1)\n",
    "    print('e =', e)\n",
    "    \n",
    "    # Znajdujemy liczbę d, gdzie jej różnica z odwrotnością modularną liczby e jest podzielna przez φ(n)\n",
    "    d = pow(e, -1, ϕ)\n",
    "    print('d =', d)\n",
    "\n",
    "    # Zwróć klucz publiczny i klucz prywatny\n",
    "    return (e, n), (d, n)"
   ]
  },
  {
   "cell_type": "code",
   "execution_count": 9,
   "id": "f32cd012",
   "metadata": {},
   "outputs": [],
   "source": [
    "def cipher(key, msg):\n",
    "    p, n = key\n",
    "    # Szyfruj wiadomość c = x^p mod n\n",
    "    return [pow(x, p, n) for x in msg]\n",
    "\n",
    "\n",
    "encrypt = lambda k, m: cipher(k, bytes(m, 'utf-8'))\n",
    "decrypt = lambda k, m: bytes(cipher(k, m)).decode('utf-8')"
   ]
  },
  {
   "cell_type": "code",
   "execution_count": 10,
   "id": "6c635fa9",
   "metadata": {},
   "outputs": [
    {
     "name": "stdout",
     "output_type": "stream",
     "text": [
      "p = 3491\n",
      "q = 2837\n",
      "n = 9903967\n",
      "ϕ = 9897640\n",
      "e = 3769705943\n",
      "d = 7320487\n"
     ]
    }
   ],
   "source": [
    "pub, prv = generate_keys()"
   ]
  },
  {
   "cell_type": "code",
   "execution_count": 11,
   "id": "2a3c7c73",
   "metadata": {},
   "outputs": [
    {
     "name": "stdout",
     "output_type": "stream",
     "text": [
      "Tajny tekst do zaszyfrowania - oryginalna wersja 1\n"
     ]
    }
   ],
   "source": [
    "original = 'Tajny tekst do zaszyfrowania - oryginalna wersja 1'\n",
    "assert len(bytes(original, 'utf-8')) == 50\n",
    "print(original)"
   ]
  },
  {
   "cell_type": "code",
   "execution_count": 12,
   "id": "ec0ee38d",
   "metadata": {},
   "outputs": [
    {
     "name": "stdout",
     "output_type": "stream",
     "text": [
      "84\n",
      "97\n",
      "106\n",
      "110\n",
      "121\n",
      "32\n",
      "116\n",
      "101\n",
      "107\n",
      "115\n",
      "116\n",
      "32\n",
      "100\n",
      "111\n",
      "32\n",
      "122\n",
      "97\n",
      "115\n",
      "122\n",
      "121\n",
      "102\n",
      "114\n",
      "111\n",
      "119\n",
      "97\n",
      "110\n",
      "105\n",
      "97\n",
      "32\n",
      "45\n",
      "32\n",
      "111\n",
      "114\n",
      "121\n",
      "103\n",
      "105\n",
      "110\n",
      "97\n",
      "108\n",
      "110\n",
      "97\n",
      "32\n",
      "119\n",
      "101\n",
      "114\n",
      "115\n",
      "106\n",
      "97\n",
      "32\n",
      "49\n",
      "[8090092, 6166848, 6395663, 4607728, 5227021, 1797966, 7944504, 6001584, 2377251, 9765344, 7944504, 1797966, 7430576, 4162051, 1797966, 9120434, 6166848, 9765344, 9120434, 5227021, 7833403, 8766164, 4162051, 6207206, 6166848, 4607728, 2393096, 6166848, 1797966, 531773, 1797966, 4162051, 8766164, 5227021, 2685695, 2393096, 4607728, 6166848, 8703706, 4607728, 6166848, 1797966, 6207206, 6001584, 8766164, 9765344, 6395663, 6166848, 1797966, 9793747]\n",
      "length = 50 \n",
      "-----------\n",
      "007B71EC 005E1940 0061970F 00464EF0 004FC20D 001B6F4E 00793938 005B93B0 00244623 009501E0 00793938 001B6F4E 007161B0 003F8203 001B6F4E 008B2AB2 005E1940 009501E0 008B2AB2 004FC20D 0077873B 0085C2D4 003F8203 005EB6E6 005E1940 00464EF0 00248408 005E1940 001B6F4E 00081D3D 001B6F4E 003F8203 0085C2D4 004FC20D 0028FAFF 00248408 00464EF0 005E1940 0084CEDA 00464EF0 005E1940 001B6F4E 005EB6E6 005B93B0 0085C2D4 009501E0 0061970F 005E1940 001B6F4E 009570D3\n"
     ]
    }
   ],
   "source": [
    "secret = encrypt(pub, original)\n",
    "print(secret)\n",
    "print('length =', len(secret), '\\n'+'-'*11)\n",
    "print(hexdump(secret))"
   ]
  },
  {
   "cell_type": "code",
   "execution_count": 7,
   "id": "b2248459",
   "metadata": {},
   "outputs": [
    {
     "name": "stdout",
     "output_type": "stream",
     "text": [
      "Tajny tekst do zaszyfrowania - oryginalna wersja 1\n"
     ]
    }
   ],
   "source": [
    "recevied = decrypt(prv, secret)\n",
    "assert recevied == original\n",
    "print(recevied)"
   ]
  },
  {
   "cell_type": "code",
   "execution_count": null,
   "id": "8c0f4684",
   "metadata": {},
   "outputs": [],
   "source": []
  }
 ],
 "metadata": {
  "kernelspec": {
   "display_name": "Python 3 (ipykernel)",
   "language": "python",
   "name": "python3"
  },
  "language_info": {
   "codemirror_mode": {
    "name": "ipython",
    "version": 3
   },
   "file_extension": ".py",
   "mimetype": "text/x-python",
   "name": "python",
   "nbconvert_exporter": "python",
   "pygments_lexer": "ipython3",
   "version": "3.10.8"
  }
 },
 "nbformat": 4,
 "nbformat_minor": 5
}
