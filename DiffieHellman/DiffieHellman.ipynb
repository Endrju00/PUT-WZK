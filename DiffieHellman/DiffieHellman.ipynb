{
 "cells": [
  {
   "cell_type": "code",
   "execution_count": 1,
   "id": "e0de665c",
   "metadata": {},
   "outputs": [],
   "source": [
    "import random\n",
    "\n",
    "\n",
    "def miller_rabin(num):\n",
    "    # Returns True if num is a prime number.\n",
    "\n",
    "    s = num - 1\n",
    "    t = 0\n",
    "    while s % 2 == 0:\n",
    "        # keep halving s while it is even (and use t\n",
    "        # to count how many times we halve s)\n",
    "        s = s // 2\n",
    "        t += 1\n",
    "\n",
    "    for trials in range(5): # try to falsify num's primality 5 times\n",
    "        a = random.randrange(2, num - 1)\n",
    "        v = pow(a, s, num)\n",
    "        if v != 1: # this test does not apply if v is 1.\n",
    "            i = 0\n",
    "            while v != (num - 1):\n",
    "                if i == t - 1:\n",
    "                    return False\n",
    "                else:\n",
    "                    i = i + 1\n",
    "                    v = (v ** 2) % num\n",
    "    return True\n",
    "\n",
    "\n",
    "def is_prime(num):\n",
    "    if (num < 2):\n",
    "        return False # 0, 1, and negative numbers are not prime\n",
    "    \n",
    "    lowPrimes = [2, 3, 5, 7, 11, 13, 17, 19, 23, 29, 31, 37, 41, 43, 47, 53, 59, 61, 67, 71, 73, 79, 83, 89, 97, 101, 103, 107, 109, 113, 127, 131, 137, 139, 149, 151, 157, 163, 167, 173, 179, 181, 191, 193, 197, 199, 211, 223, 227, 229, 233, 239, 241, 251, 257, 263, 269, 271, 277, 281, 283, 293, 307, 311, 313, 317, 331, 337, 347, 349, 353, 359, 367, 373, 379, 383, 389, 397, 401, 409, 419, 421, 431, 433, 439, 443, 449, 457, 461, 463, 467, 479, 487, 491, 499, 503, 509, 521, 523, 541, 547, 557, 563, 569, 571, 577, 587, 593, 599, 601, 607, 613, 617, 619, 631, 641, 643, 647, 653, 659, 661, 673, 677, 683, 691, 701, 709, 719, 727, 733, 739, 743, 751, 757, 761, 769, 773, 787, 797, 809, 811, 821, 823, 827, 829, 839, 853, 857, 859, 863, 877, 881, 883, 887, 907, 911, 919, 929, 937, 941, 947, 953, 967, 971, 977, 983, 991, 997]\n",
    "\n",
    "    if num in lowPrimes:\n",
    "        return True\n",
    "\n",
    "    # See if any of the low prime numbers can divide num\n",
    "    for prime in lowPrimes:\n",
    "        if (num % prime == 0):\n",
    "            return False\n",
    "\n",
    "    # If all else fails, call rabinMiller() to determine if num is a prime.\n",
    "    return miller_rabin(num)"
   ]
  },
  {
   "cell_type": "code",
   "execution_count": 2,
   "id": "8648c348",
   "metadata": {},
   "outputs": [],
   "source": [
    "import random\n",
    "from random import getrandbits\n",
    "from math import gcd\n",
    "from Crypto.Cipher import AES\n",
    "from tqdm.notebook import tqdm\n",
    "\n",
    "pad = lambda x: x + b'\\0' * (AES.block_size - len(x) % AES.block_size)\n",
    "strip = lambda x: x.rstrip(b'\\0')\n",
    "hexdump = lambda x: ' '.join(f'{b:02X}' for b in x)"
   ]
  },
  {
   "cell_type": "code",
   "execution_count": 3,
   "id": "6f63e20d",
   "metadata": {},
   "outputs": [
    {
     "data": {
      "application/vnd.jupyter.widget-view+json": {
       "model_id": "e04e03cf023b4086b01f7a75d99d975f",
       "version_major": 2,
       "version_minor": 0
      },
      "text/plain": [
       "  0%|          | 0/460 [00:00<?, ?it/s]"
      ]
     },
     "metadata": {},
     "output_type": "display_data"
    },
    {
     "name": "stdout",
     "output_type": "stream",
     "text": [
      "n = 461, g = 306\n"
     ]
    }
   ],
   "source": [
    "def randwhile(bits, until):\n",
    "    while True:\n",
    "        x = getrandbits(bits)\n",
    "        if until(x): return x\n",
    "        \n",
    "def primroots(p):\n",
    "    coprime = {x for x in range(1, p) if gcd(x, p) == 1}\n",
    "    return [x for x in tqdm(range(1, p)) if coprime == {pow(x, y, p) for y in range(1, p)}]\n",
    "\n",
    "# Uzgodnienie liczby pierwszej n i jej pierwiastka pierwotnego g\n",
    "n = randwhile(10, is_prime)\n",
    "g = random.choice(primroots(n))\n",
    "print(f\"n = {n}, g = {g}\")"
   ]
  },
  {
   "cell_type": "code",
   "execution_count": 6,
   "id": "61132066",
   "metadata": {},
   "outputs": [
    {
     "name": "stdout",
     "output_type": "stream",
     "text": [
      "A: x = 356573612564656427238273, X = 27\n",
      "B: y = 835226331706433831371593, Y = 47\n",
      "A: full key = 230\n",
      "B: full key = 230\n"
     ]
    }
   ],
   "source": [
    "# Obliczenie g^x mod n, gdzie x to tajna liczba pierwszej osoby\n",
    "x = getrandbits(80)\n",
    "X = pow(g, x, n)\n",
    "print(f\"A: x = {x}, X = {X}\")\n",
    "\n",
    "# Obliczenie g^y mod n, gdzie y to tajna liczba drugiej osoby\n",
    "y = getrandbits(80)\n",
    "Y = pow(g, y, n)\n",
    "print(f\"B: y = {y}, Y = {Y}\")\n",
    "\n",
    "# Obliczenie klucza za pomocą znanych wartości\n",
    "Ak = pow(Y, x, n)\n",
    "print(f\"A: full key = {Ak}\")\n",
    "\n",
    "Bk = pow(X, y, n)\n",
    "print(f\"B: full key = {Bk}\")\n",
    "\n",
    "assert Ak == Bk\n",
    "k = Ak = Bk"
   ]
  },
  {
   "cell_type": "code",
   "execution_count": 7,
   "id": "d7ceb752",
   "metadata": {},
   "outputs": [
    {
     "name": "stdout",
     "output_type": "stream",
     "text": [
      "A: encrypted = 71 79 39 8D 22 AF 26 1B 97 44 C9 16 32 C7 A5 5C\n"
     ]
    }
   ],
   "source": [
    "def encrypt(key, m):\n",
    "    cipher = AES.new(key.to_bytes(16, byteorder='big'), AES.MODE_ECB)\n",
    "    return cipher.encrypt(pad(bytes(m, 'utf-8')))\n",
    "\n",
    "# Szyfrowanie wiadomości\n",
    "msg = encrypt(k, 'Hello, world!')\n",
    "print('A: encrypted =', hexdump(msg))"
   ]
  },
  {
   "cell_type": "code",
   "execution_count": 8,
   "id": "b9258868",
   "metadata": {},
   "outputs": [
    {
     "name": "stdout",
     "output_type": "stream",
     "text": [
      "B: decrypted = Hello, world!\n"
     ]
    }
   ],
   "source": [
    "def decrypt(key, m):\n",
    "    cipher = AES.new(key.to_bytes(16, byteorder='big'), AES.MODE_ECB)\n",
    "    return strip(cipher.decrypt(m)).decode('utf-8')\n",
    "\n",
    "# Odszyfrowanie wiadomości\n",
    "res = decrypt(k, msg)\n",
    "print('B: decrypted =', res)"
   ]
  },
  {
   "cell_type": "code",
   "execution_count": null,
   "id": "c75f501c",
   "metadata": {},
   "outputs": [],
   "source": []
  }
 ],
 "metadata": {
  "kernelspec": {
   "display_name": "Python 3 (ipykernel)",
   "language": "python",
   "name": "python3"
  },
  "language_info": {
   "codemirror_mode": {
    "name": "ipython",
    "version": 3
   },
   "file_extension": ".py",
   "mimetype": "text/x-python",
   "name": "python",
   "nbconvert_exporter": "python",
   "pygments_lexer": "ipython3",
   "version": "3.10.8"
  }
 },
 "nbformat": 4,
 "nbformat_minor": 5
}
