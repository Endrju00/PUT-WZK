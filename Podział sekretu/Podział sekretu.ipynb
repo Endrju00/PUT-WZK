{
 "cells": [
  {
   "cell_type": "code",
   "execution_count": 1,
   "id": "c91b2747",
   "metadata": {},
   "outputs": [],
   "source": [
    "from ipywidgets import interact, interactive, fixed, interact_manual\n",
    "from ipywidgets import IntText, Text\n",
    "import ipywidgets as widgets\n",
    "from numpy.random import randint\n",
    "import numpy as np\n",
    "map = lambda xs, f: [f(x) for x in xs]\n",
    "join = lambda xs, sep: sep.join(xs)\n",
    "\n",
    "def mod(a, b):\n",
    "    return a - b * (a // b)"
   ]
  },
  {
   "cell_type": "markdown",
   "id": "5b7d4aa9",
   "metadata": {},
   "source": [
    "### Parametry\n",
    "* `p` liczba pierwsza\n",
    "* `t` wymagana liczba udziałów\n",
    "* `n` całkowita liczba udziałów"
   ]
  },
  {
   "cell_type": "code",
   "execution_count": 2,
   "id": "e875be37",
   "metadata": {},
   "outputs": [
    {
     "data": {
      "text/plain": [
       "8191"
      ]
     },
     "execution_count": 2,
     "metadata": {},
     "output_type": "execute_result"
    }
   ],
   "source": [
    "# Liczba pierwsza\n",
    "p = 2**13 - 1\n",
    "p "
   ]
  },
  {
   "cell_type": "code",
   "execution_count": 3,
   "id": "1adc54bc",
   "metadata": {
    "scrolled": true
   },
   "outputs": [
    {
     "data": {
      "application/vnd.jupyter.widget-view+json": {
       "model_id": "35f45cac22dd429f8015d20a3c1e04da",
       "version_major": 2,
       "version_minor": 0
      },
      "text/plain": [
       "interactive(children=(IntText(value=0, description='secret'), IntSlider(value=4, description='n', max=10, min=…"
      ]
     },
     "metadata": {},
     "output_type": "display_data"
    }
   ],
   "source": [
    "def poly_eval(A, x):\n",
    "    X = np.array([x**i for i in range(len(A))])\n",
    "    y = np.sum(A*X)\n",
    "    return y\n",
    "\n",
    "@interact_manual(secret=IntText(), n=(1, 10, 1), t=(1, 10, 1))\n",
    "def shamir_encrypt(secret, n=4, t=3):\n",
    "    # Sprawdź warunki\n",
    "    assert p > secret, f'p > secret not satisfied ({p} <= {secret})'\n",
    "    assert p > n, f'p > n not satisfied ({p} <= {n})'\n",
    "    \n",
    "    # Sekret + lista t-1 losowych liczb.\n",
    "    A = [secret] + list(randint(0, p, size=t-1))\n",
    "    X = np.arange(n) + 1\n",
    "    \n",
    "    # Dla kazdego i oblicz...\n",
    "    Y = [poly_eval(A, x) for x in X]\n",
    "    \n",
    "    # Wyniki\n",
    "    for i, x in enumerate(A): print(f'a_{i} = {x}')\n",
    "    for x, y in zip(X, Y): print(f's_{x} = f({x}) mod p = {y: 8d} mod {p} = {y % p}')\n",
    "    \n",
    "    # Podaj współrzędne\n",
    "    print('--- ENCRYPTED ---')\n",
    "    print(join([f'{x},{y % p}' for x, y in zip(X, Y)], ';'))"
   ]
  },
  {
   "cell_type": "code",
   "execution_count": 4,
   "id": "1726c24d",
   "metadata": {},
   "outputs": [
    {
     "data": {
      "application/vnd.jupyter.widget-view+json": {
       "model_id": "c2a1750f5eb5422bbf1014b02071ae04",
       "version_major": 2,
       "version_minor": 0
      },
      "text/plain": [
       "interactive(children=(Text(value='', description='keys'), Button(description='Run Interact', style=ButtonStyle…"
      ]
     },
     "metadata": {},
     "output_type": "display_data"
    }
   ],
   "source": [
    "from fractions import Fraction\n",
    "\n",
    "def lagr_interp(X):\n",
    "    num, den = np.ones_like(X), np.ones_like(X)\n",
    "    for i, xi in enumerate(X):\n",
    "        for j, xj in enumerate(X):\n",
    "            if i == j: continue\n",
    "            num[i] *= xj\n",
    "            den[i] *= xj - xi\n",
    "    return [Fraction(a, b) for a, b in zip(num, den)]\n",
    "\n",
    "@interact_manual(keys=Text())\n",
    "def shamir_decrypt(keys):\n",
    "    # Odczytanie współrzędnych\n",
    "    X, Y = np.array([map(x.split(','), int) for x in keys.split(';')]).T\n",
    "\n",
    "    # Interpolacja wielomianowa\n",
    "    L = lagr_interp(X)\n",
    "    \n",
    "    # Suma wyrazów wolnych to sekret\n",
    "    S = np.sum(Y * L) % p\n",
    "    \n",
    "    # Wynik\n",
    "    for i in range(len(X)): print(f'y_{i}*l_{i} = {Y[i]: 6d} * {L[i]} = {Y[i] * L[i]}')\n",
    "    print('--- DECRYPTED ---')\n",
    "    print(S)"
   ]
  },
  {
   "cell_type": "code",
   "execution_count": null,
   "id": "4a9b2be5",
   "metadata": {},
   "outputs": [],
   "source": []
  }
 ],
 "metadata": {
  "kernelspec": {
   "display_name": "Python 3 (ipykernel)",
   "language": "python",
   "name": "python3"
  },
  "language_info": {
   "codemirror_mode": {
    "name": "ipython",
    "version": 3
   },
   "file_extension": ".py",
   "mimetype": "text/x-python",
   "name": "python",
   "nbconvert_exporter": "python",
   "pygments_lexer": "ipython3",
   "version": "3.10.8"
  }
 },
 "nbformat": 4,
 "nbformat_minor": 5
}
